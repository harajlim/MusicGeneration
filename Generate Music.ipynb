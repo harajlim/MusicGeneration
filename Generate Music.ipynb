{
 "cells": [
  {
   "cell_type": "markdown",
   "metadata": {},
   "source": [
    "import sys\n",
    "!{sys.executable} -m pip install music21\n",
    "!{sys.executable} -m pip install tqdm\n"
   ]
  },
  {
   "cell_type": "code",
   "execution_count": 1,
   "metadata": {},
   "outputs": [
    {
     "name": "stderr",
     "output_type": "stream",
     "text": [
      "C:\\Users\\MHarajli\\AppData\\Local\\Continuum\\anaconda3\\lib\\site-packages\\h5py\\__init__.py:36: FutureWarning: Conversion of the second argument of issubdtype from `float` to `np.floating` is deprecated. In future, it will be treated as `np.float64 == np.dtype(float).type`.\n",
      "  from ._conv import register_converters as _register_converters\n",
      "Using TensorFlow backend.\n"
     ]
    }
   ],
   "source": [
    "import music21\n",
    "import numpy as np\n",
    "import glob\n",
    "import matplotlib.pyplot as plt\n",
    "from tqdm import tqdm\n",
    "import pickle\n",
    "import pandas as pd\n",
    "from keras.utils import np_utils\n",
    "from collections import defaultdict\n",
    "\n",
    "from keras.models import Sequential\n",
    "from keras.layers import Activation, Dense, LSTM, Dropout, Flatten"
   ]
  },
  {
   "cell_type": "code",
   "execution_count": 2,
   "metadata": {},
   "outputs": [],
   "source": [
    "with open('encodings/information.pickle','rb') as file:\n",
    "    DF=pickle.load(file)"
   ]
  },
  {
   "cell_type": "code",
   "execution_count": 3,
   "metadata": {},
   "outputs": [],
   "source": [
    "DF=DF[DF['Artist']=='chopin']"
   ]
  },
  {
   "cell_type": "code",
   "execution_count": 4,
   "metadata": {},
   "outputs": [],
   "source": [
    "DF=DF.iloc[[0,1],:]"
   ]
  },
  {
   "cell_type": "code",
   "execution_count": 51,
   "metadata": {},
   "outputs": [],
   "source": [
    "\n",
    "with open('SavedModels/vocab.pickle','rb') as file:\n",
    "    vocab=pickle.load(file)\n",
    "    \n",
    "with open('SavedModels/WordToNumber.pickle','rb') as file:\n",
    "    WordToNumber=pickle.load(file)\n",
    "\n",
    "with open('SavedModels/NumberToWord.pickle','rb') as file:\n",
    "    NumberToWord=pickle.load(file)\n",
    "    \n",
    "with open('SavedModels/GfToNumber.pickle','rb') as file:\n",
    "    GfToNumber=pickle.load(file)\n",
    "with open('SavedModels/NumberToGf.pickle','rb') as file:\n",
    "    NumberToGf=pickle.load(file)\n",
    "    \n",
    "with open('SavedModels/NoteToNumber.pickle','rb') as file:\n",
    "    NoteToNumber=pickle.load(file)\n",
    "    \n",
    "with open('SavedModels/NumberToNote.pickle','rb') as file:\n",
    "    NumberToNote=pickle.load(file)\n",
    "\n",
    "\n"
   ]
  },
  {
   "cell_type": "code",
   "execution_count": 52,
   "metadata": {},
   "outputs": [],
   "source": [
    "def prepare_sequences_gf_or_note(DF, n_vocab,WordToNumber,sequence_length=100): \n",
    "    \"\"\"Given a list of locations for all the midi files in the dataset, this function encodes each song\"\"\"\n",
    "    # Extract the unique pitches in the list of notes.\n",
    "\n",
    "    network_input = []\n",
    "    network_output = []\n",
    "    for i in tqdm(range(len(DF))):\n",
    "        song=DF.iloc[i,2]\n",
    "        # create input sequences and the corresponding outputs\n",
    "        \n",
    "        for i in range(0, len(song) - sequence_length, 1):\n",
    "            #we only use the sequence if the last event is not a gf event:\n",
    "            sequence_in = song[i: i + sequence_length]\n",
    "            if 'gf' not in str(sequence_in[-1]):\n",
    "                sequence_out = float('gf' in str(song[i + sequence_length]))\n",
    "                network_input.append([WordToNumber[char] for char in sequence_in])\n",
    "                network_output.append(sequence_out)\n",
    "                \n",
    "\n",
    "    n_patterns = len(network_input)\n",
    "    \n",
    "    # reshape the input into a format comatible with LSTM layers \n",
    "    network_input = np.reshape(network_input, (n_patterns, sequence_length, 1))\n",
    "    \n",
    "    # normalize input\n",
    "    network_input = network_input / float(n_vocab)\n",
    "    \n",
    "    # one hot encode the output vectors\n",
    "    network_output = np_utils.to_categorical(network_output)\n",
    "    \n",
    "    return (network_input, network_output)"
   ]
  },
  {
   "cell_type": "code",
   "execution_count": 53,
   "metadata": {},
   "outputs": [],
   "source": [
    "def prepare_sequences_get_gf(DF, n_vocab,WordToNumber,GfToNumber,sequence_length=100): \n",
    "    \"\"\"Given a list of locations for all the midi files in the dataset, this function encodes each song\"\"\"\n",
    "    # Extract the unique pitches in the list of notes.\n",
    "\n",
    "    network_input = []\n",
    "    network_output = []\n",
    "    for i in tqdm(range(len(DF))):\n",
    "        song=DF.iloc[i,2]\n",
    "        # create input sequences and the corresponding outputs\n",
    "        \n",
    "        for i in range(0, len(song) - sequence_length, 1):\n",
    "            #we only use the sequence if the last event is not a gf event:\n",
    "            sequence_in = song[i: i + sequence_length]\n",
    "            sequence_out=song[i + sequence_length]\n",
    "            if 'gf' in str(sequence_out):\n",
    "                network_input.append([WordToNumber[char] for char in sequence_in])\n",
    "                network_output.append(GfToNumber[sequence_out])\n",
    "                \n",
    "\n",
    "    n_patterns = len(network_input)\n",
    "    \n",
    "    # reshape the input into a format comatible with LSTM layers \n",
    "    network_input = np.reshape(network_input, (n_patterns, sequence_length, 1))\n",
    "    \n",
    "    # normalize input\n",
    "    network_input = network_input / float(n_vocab)\n",
    "    \n",
    "    # one hot encode the output vectors\n",
    "    network_output = np_utils.to_categorical(network_output)\n",
    "    \n",
    "    return (network_input, network_output)"
   ]
  },
  {
   "cell_type": "code",
   "execution_count": 54,
   "metadata": {},
   "outputs": [],
   "source": [
    "def prepare_sequences_get_note(DF, n_vocab,WordToNumber,NoteToNumber,sequence_length=100): \n",
    "    \"\"\"Given a list of locations for all the midi files in the dataset, this function encodes each song\"\"\"\n",
    "    # Extract the unique pitches in the list of notes.\n",
    "\n",
    "    network_input = []\n",
    "    network_output = []\n",
    "    for i in tqdm(range(len(DF))):\n",
    "        song=DF.iloc[i,2]\n",
    "        # create input sequences and the corresponding outputs\n",
    "        \n",
    "        for i in range(0, len(song) - sequence_length, 1):\n",
    "            #we only use the sequence if the last event is not a gf event:\n",
    "            sequence_in = song[i: i + sequence_length]\n",
    "            sequence_out=song[i + sequence_length]\n",
    "            if 'gf' not in str(sequence_out):\n",
    "                network_input.append([WordToNumber[char] for char in sequence_in])\n",
    "                network_output.append(NoteToNumber[sequence_out])\n",
    "                \n",
    "\n",
    "    n_patterns = len(network_input)\n",
    "    \n",
    "    # reshape the input into a format comatible with LSTM layers \n",
    "    network_input = np.reshape(network_input, (n_patterns, sequence_length, 1))\n",
    "    \n",
    "    # normalize input\n",
    "    network_input = network_input / float(n_vocab)\n",
    "    \n",
    "    # one hot encode the output vectors\n",
    "    network_output = np_utils.to_categorical(network_output)\n",
    "    \n",
    "    return (network_input, network_output)"
   ]
  },
  {
   "cell_type": "code",
   "execution_count": 55,
   "metadata": {},
   "outputs": [],
   "source": [
    "def create_network_gf_or_note(network_in, n_vocab_out): \n",
    "    \"\"\"Create the model architecture\"\"\"\n",
    "    model = Sequential()\n",
    "    model.add(LSTM(20, input_shape=network_in.shape[1:], return_sequences=True))\n",
    "    model.add(Dropout(0.3))\n",
    "    model.add(LSTM(20,return_sequences=True))\n",
    "    model.add(Flatten())\n",
    "    model.add(Dense(20))\n",
    "    model.add(Dropout(0.3))\n",
    "    model.add(Dense(n_vocab_out))\n",
    "    model.add(Activation('softmax'))\n",
    "    model.compile(loss='categorical_crossentropy', optimizer='adam',metrics=['accuracy'])\n",
    "\n",
    "    return model"
   ]
  },
  {
   "cell_type": "code",
   "execution_count": 56,
   "metadata": {},
   "outputs": [],
   "source": [
    "def create_network_get_gf(network_in, n_vocab_out): \n",
    "    \"\"\"Create the model architecture\"\"\"\n",
    "    model = Sequential()\n",
    "    model.add(LSTM(20, input_shape=network_in.shape[1:], return_sequences=True))\n",
    "    model.add(Dropout(0.3))\n",
    "    model.add(LSTM(20,return_sequences=True))\n",
    "    model.add(Flatten())\n",
    "    model.add(Dense(20))\n",
    "    model.add(Dropout(0.3))\n",
    "    model.add(Dense(n_vocab_out))\n",
    "    model.add(Activation('softmax'))\n",
    "    model.compile(loss='categorical_crossentropy', optimizer='adam',metrics=['accuracy'])\n",
    "\n",
    "    return model"
   ]
  },
  {
   "cell_type": "code",
   "execution_count": 57,
   "metadata": {},
   "outputs": [],
   "source": [
    "def create_network_get_note(network_in, n_vocab_out): \n",
    "    \"\"\"Create the model architecture\"\"\"\n",
    "    model = Sequential()\n",
    "    model.add(LSTM(20, input_shape=network_in.shape[1:], return_sequences=True))\n",
    "    model.add(Dropout(0.3))\n",
    "    model.add(LSTM(20,return_sequences=True))\n",
    "    model.add(Flatten())\n",
    "    model.add(Dense(20))\n",
    "    model.add(Dropout(0.3))\n",
    "    model.add(Dense(n_vocab_out))\n",
    "    model.add(Activation('softmax'))\n",
    "    model.compile(loss='categorical_crossentropy', optimizer='adam',metrics=['accuracy'])\n",
    "\n",
    "    return model"
   ]
  },
  {
   "cell_type": "code",
   "execution_count": 58,
   "metadata": {
    "scrolled": false
   },
   "outputs": [
    {
     "name": "stderr",
     "output_type": "stream",
     "text": [
      "100%|███████████████████████████████████████████| 2/2 [00:00<00:00, 128.21it/s]\n",
      "100%|████████████████████████████████████████████| 2/2 [00:00<00:00, 64.10it/s]\n",
      "100%|████████████████████████████████████████████████████| 2/2 [00:00<?, ?it/s]\n"
     ]
    }
   ],
   "source": [
    "#we first need to load the trained models:\n",
    "\n",
    "gf_or_note_input,gf_or_note_output=prepare_sequences_gf_or_note(DF,len(WordToNumber),WordToNumber)\n",
    "get_gf_input,get_gf_output=prepare_sequences_get_gf(DF,len(WordToNumber),WordToNumber,GfToNumber)\n",
    "get_note_input,get_note_output=prepare_sequences_get_note(DF,len(WordToNumber),WordToNumber,NoteToNumber)\n",
    "\n",
    "from keras.models import load_model\n",
    "get_gf = load_model('SavedModels/weights.get_gf.hdf5')\n",
    "\n",
    "gf_or_note = load_model('SavedModels/weights.gf_or_note.hdf5')\n",
    "\n",
    "get_note = load_model('SavedModels/weights.get_note.hdf5')\n",
    "\n"
   ]
  },
  {
   "cell_type": "code",
   "execution_count": 59,
   "metadata": {},
   "outputs": [],
   "source": [
    "#now we have all three models. We start with a sequence:\n",
    "#We pick the beggining of the first song in our DF: chpn-p1:\n",
    "encoding=DF.iloc[0,2]\n",
    "sequenceIn=[]\n",
    "\n",
    "for word in encoding[:100]:\n",
    "    sequenceIn.append(WordToNumber[word])\n",
    "FullSequence=sequenceIn\n",
    "\n",
    "for i in range(100):\n",
    "    if 'gf' in str(NumberToWord[sequenceIn[-1]]):\n",
    "        \n",
    "        next_note=get_note.predict(np.reshape(sequenceIn,(1,100,1))/len(vocab))\n",
    "        next_note=np.argmax(next_note)\n",
    "        next_note=NumberToNote[next_note]\n",
    "        next_note=WordToNumber[next_note]\n",
    "        FullSequence.append(next_note)\n",
    "    else:\n",
    "        \n",
    "        nextStep=gf_or_note.predict(np.reshape(sequenceIn,(1,100,1))/len(vocab))\n",
    "        nextStep=np.argmax(nextStep)\n",
    "        \n",
    "        #we get nextStep=1 if next step is a gf and 0 if note\n",
    "        if nextStep==0:\n",
    "            next_note=get_note.predict(np.reshape(sequenceIn,(1,100,1))/len(vocab))\n",
    "            next_note=np.argmax(next_note)\n",
    "            next_note=NumberToNote[next_note]\n",
    "            next_note=WordToNumber[next_note]\n",
    "            FullSequence.append(next_note)\n",
    "        else:\n",
    "            next_gf=get_gf.predict(np.reshape(sequenceIn,(1,100,1))/len(vocab))\n",
    "            next_gf=np.argmax(next_gf)\n",
    "            next_gf=NumberToGf[next_gf]\n",
    "            \n",
    "            next_gf=WordToNumber[next_gf]\n",
    "            FullSequence.append(next_gf)\n",
    "    sequenceIn=FullSequence[-100:]\n",
    "            \n",
    "Composition=[]            \n",
    "for number in FullSequence:\n",
    "    Composition.append(NumberToWord[number])\n",
    "        "
   ]
  },
  {
   "cell_type": "code",
   "execution_count": 26,
   "metadata": {},
   "outputs": [],
   "source": [
    "#next we write a function that takes in a sequence of events and changes it into a midi file:\n",
    "def write_midi(composition,filename):\n",
    "    MidiSequence=[]\n",
    "    Offset=0\n",
    "    for word in composition:\n",
    "        if 'gf' in str(word):\n",
    "            Offset+=float(word[2:])\n",
    "        else:\n",
    "            new_note=music21.note.Note(int(word))\n",
    "            new_note.offset=Offset\n",
    "            new_note.storedInstrument=music21.instrument.Piano()\n",
    "            MidiSequence.append(new_note)\n",
    "            \n",
    "    midi_stream=music21.stream.Stream(MidiSequence)\n",
    "    midi_stream.write('midi', fp=filename)    \n",
    "    \n",
    "    return 1\n"
   ]
  },
  {
   "cell_type": "code",
   "execution_count": 61,
   "metadata": {},
   "outputs": [
    {
     "data": {
      "text/plain": [
       "1"
      ]
     },
     "execution_count": 61,
     "metadata": {},
     "output_type": "execute_result"
    }
   ],
   "source": [
    "write_midi(Composition,'Samples/ChopinOnly.mid')"
   ]
  },
  {
   "cell_type": "code",
   "execution_count": 60,
   "metadata": {
    "scrolled": false
   },
   "outputs": [
    {
     "name": "stdout",
     "output_type": "stream",
     "text": [
      "Song Goes: 36 and we guess: 36 at index: 0\n",
      "Song Goes: gf0.25 and we guess: gf0.25 at index: 1\n",
      "Song Goes: 43 and we guess: 43 at index: 2\n",
      "Song Goes: 55 and we guess: 55 at index: 3\n",
      "Song Goes: gf0.0833 and we guess: gf0.0833 at index: 4\n",
      "Song Goes: 52 and we guess: 52 at index: 5\n",
      "Song Goes: 60 and we guess: 60 at index: 6\n",
      "Song Goes: gf0.1667 and we guess: gf0.1667 at index: 7\n",
      "Song Goes: 64 and we guess: 64 at index: 8\n",
      "Song Goes: 67 and we guess: 67 at index: 9\n",
      "Song Goes: gf0.1667 and we guess: gf0.1667 at index: 10\n",
      "Song Goes: 60 and we guess: 60 at index: 11\n",
      "Song Goes: gf0.0833 and we guess: gf0.0833 at index: 12\n",
      "Song Goes: 57 and we guess: 57 at index: 13\n",
      "Song Goes: 69 and we guess: 69 at index: 14\n",
      "Song Goes: gf0.25 and we guess: gf0.25 at index: 15\n",
      "Song Goes: 35 and we guess: 35 at index: 16\n",
      "Song Goes: gf0.25 and we guess: gf0.25 at index: 17\n",
      "Song Goes: 43 and we guess: 43 at index: 18\n",
      "Song Goes: 55 and we guess: 55 at index: 19\n",
      "Song Goes: gf0.0833 and we guess: gf0.0833 at index: 20\n",
      "Song Goes: 53 and we guess: 53 at index: 21\n",
      "Song Goes: 62 and we guess: 62 at index: 22\n",
      "Song Goes: gf0.1667 and we guess: gf0.1667 at index: 23\n",
      "Song Goes: 65 and we guess: 65 at index: 24\n",
      "Song Goes: 67 and we guess: 67 at index: 25\n",
      "Song Goes: gf0.1667 and we guess: gf0.1667 at index: 26\n",
      "Song Goes: 62 and we guess: 62 at index: 27\n",
      "Song Goes: gf0.0833 and we guess: gf0.0833 at index: 28\n",
      "Song Goes: 57 and we guess: 57 at index: 29\n",
      "Song Goes: 69 and we guess: 69 at index: 30\n",
      "Song Goes: gf0.25 and we guess: gf0.25 at index: 31\n",
      "Song Goes: 36 and we guess: 36 at index: 32\n",
      "Song Goes: gf0.25 and we guess: gf0.25 at index: 33\n",
      "Song Goes: 43 and we guess: 43 at index: 34\n",
      "Song Goes: 55 and we guess: 55 at index: 35\n",
      "Song Goes: gf0.0833 and we guess: gf0.0833 at index: 36\n",
      "Song Goes: 52 and we guess: 52 at index: 37\n",
      "Song Goes: 60 and we guess: 60 at index: 38\n",
      "Song Goes: gf0.1667 and we guess: gf0.1667 at index: 39\n",
      "Song Goes: 64 and we guess: 64 at index: 40\n",
      "Song Goes: 67 and we guess: 67 at index: 41\n",
      "Song Goes: gf0.1667 and we guess: gf0.1667 at index: 42\n",
      "Song Goes: 60 and we guess: 60 at index: 43\n",
      "Song Goes: gf0.0833 and we guess: gf0.0833 at index: 44\n",
      "Song Goes: 57 and we guess: 57 at index: 45\n",
      "Song Goes: 69 and we guess: 69 at index: 46\n",
      "Song Goes: gf0.25 and we guess: gf0.25 at index: 47\n",
      "Song Goes: 40 and we guess: 40 at index: 48\n",
      "Song Goes: gf0.25 and we guess: gf0.25 at index: 49\n",
      "Song Goes: 52 and we guess: 52 at index: 50\n",
      "Song Goes: 59 and we guess: 59 at index: 51\n",
      "Song Goes: gf0.0833 and we guess: gf0.0833 at index: 52\n",
      "Song Goes: 55 and we guess: 55 at index: 53\n",
      "Song Goes: 64 and we guess: 64 at index: 54\n",
      "Song Goes: gf0.1667 and we guess: gf0.1667 at index: 55\n",
      "Song Goes: 67 and we guess: 67 at index: 56\n",
      "Song Goes: 71 and we guess: 71 at index: 57\n",
      "Song Goes: gf0.1667 and we guess: gf0.1667 at index: 58\n",
      "Song Goes: 64 and we guess: 64 at index: 59\n",
      "Song Goes: gf0.0833 and we guess: gf0.0833 at index: 60\n",
      "Song Goes: 60 and we guess: 60 at index: 61\n",
      "Song Goes: 72 and we guess: 72 at index: 62\n",
      "Song Goes: gf0.25 and we guess: gf0.25 at index: 63\n",
      "Song Goes: 41 and we guess: 41 at index: 64\n",
      "Song Goes: gf0.25 and we guess: gf0.25 at index: 65\n",
      "Song Goes: 52 and we guess: 52 at index: 66\n",
      "Song Goes: 64 and we guess: 64 at index: 67\n",
      "Song Goes: gf0.0833 and we guess: gf0.0833 at index: 68\n",
      "Song Goes: 57 and we guess: 57 at index: 69\n",
      "Song Goes: 69 and we guess: 69 at index: 70\n",
      "Song Goes: gf0.1667 and we guess: gf0.1667 at index: 71\n",
      "Song Goes: 72 and we guess: 72 at index: 72\n",
      "Song Goes: 76 and we guess: 76 at index: 73\n",
      "Song Goes: gf0.1667 and we guess: gf0.1667 at index: 74\n",
      "Song Goes: 69 and we guess: 69 at index: 75\n",
      "Song Goes: gf0.0833 and we guess: gf0.0833 at index: 76\n",
      "Song Goes: 62 and we guess: 62 at index: 77\n",
      "Song Goes: 74 and we guess: 74 at index: 78\n",
      "Song Goes: gf0.25 and we guess: gf0.25 at index: 79\n",
      "Song Goes: 42 and we guess: 42 at index: 80\n",
      "Song Goes: gf0.25 and we guess: gf0.25 at index: 81\n",
      "Song Goes: 50 and we guess: 50 at index: 82\n",
      "Song Goes: 64 and we guess: 64 at index: 83\n",
      "Song Goes: gf0.0833 and we guess: gf0.0833 at index: 84\n",
      "Song Goes: 60 and we guess: 60 at index: 85\n",
      "Song Goes: 69 and we guess: 69 at index: 86\n",
      "Song Goes: gf0.1667 and we guess: gf0.1667 at index: 87\n",
      "Song Goes: 72 and we guess: 72 at index: 88\n",
      "Song Goes: 76 and we guess: 76 at index: 89\n",
      "Song Goes: gf0.1667 and we guess: gf0.1667 at index: 90\n",
      "Song Goes: 69 and we guess: 69 at index: 91\n",
      "Song Goes: gf0.0833 and we guess: gf0.0833 at index: 92\n",
      "Song Goes: 62 and we guess: 62 at index: 93\n",
      "Song Goes: 74 and we guess: 74 at index: 94\n",
      "Song Goes: gf0.25 and we guess: gf0.25 at index: 95\n",
      "Song Goes: 43 and we guess: 43 at index: 96\n",
      "Song Goes: gf0.25 and we guess: gf0.25 at index: 97\n",
      "Song Goes: 53 and we guess: 53 at index: 98\n",
      "Song Goes: 64 and we guess: 64 at index: 99\n",
      "Song Goes: gf0.0833 and we guess: 61 at index: 100<---------\n",
      "Song Goes: 59 and we guess: 62 at index: 101<---------\n",
      "Song Goes: 67 and we guess: gf0.25 at index: 102<---------\n",
      "Song Goes: gf0.1667 and we guess: 41 at index: 103<---------\n",
      "Song Goes: 71 and we guess: gf0.25 at index: 104<---------\n",
      "Song Goes: 76 and we guess: 47 at index: 105<---------\n",
      "Song Goes: gf0.1667 and we guess: gf0.1667 at index: 106\n",
      "Song Goes: 67 and we guess: 59 at index: 107<---------\n",
      "Song Goes: gf0.0833 and we guess: gf1.0 at index: 108<---------\n",
      "Song Goes: 62 and we guess: 67 at index: 109<---------\n",
      "Song Goes: 74 and we guess: gf1.0 at index: 110<---------\n",
      "Song Goes: gf0.25 and we guess: 69 at index: 111<---------\n",
      "Song Goes: 31 and we guess: gf0.1667 at index: 112<---------\n",
      "Song Goes: gf0.25 and we guess: 83 at index: 113<---------\n",
      "Song Goes: 43 and we guess: gf0.25 at index: 114<---------\n",
      "Song Goes: 59 and we guess: 74 at index: 115<---------\n",
      "Song Goes: gf0.0833 and we guess: gf0.25 at index: 116<---------\n",
      "Song Goes: 53 and we guess: 84 at index: 117<---------\n",
      "Song Goes: 62 and we guess: gf0.25 at index: 118<---------\n",
      "Song Goes: gf0.1667 and we guess: 47 at index: 119<---------\n",
      "Song Goes: 65 and we guess: gf0.1667 at index: 120<---------\n",
      "Song Goes: 71 and we guess: 47 at index: 121<---------\n",
      "Song Goes: gf0.1667 and we guess: gf1.0 at index: 122<---------\n",
      "Song Goes: 62 and we guess: 67 at index: 123<---------\n",
      "Song Goes: gf0.0833 and we guess: gf0.25 at index: 124<---------\n",
      "Song Goes: 57 and we guess: 88 at index: 125<---------\n",
      "Song Goes: 69 and we guess: gf0.25 at index: 126<---------\n",
      "Song Goes: gf0.25 and we guess: 75 at index: 127<---------\n",
      "Song Goes: 36 and we guess: gf0.1667 at index: 128<---------\n",
      "Song Goes: gf0.25 and we guess: 83 at index: 129<---------\n",
      "Song Goes: 43 and we guess: 83 at index: 130<---------\n",
      "Song Goes: 55 and we guess: gf0.25 at index: 131<---------\n",
      "Song Goes: gf0.0833 and we guess: 88 at index: 132<---------\n",
      "Song Goes: 52 and we guess: gf0.25 at index: 133<---------\n",
      "Song Goes: 60 and we guess: 88 at index: 134<---------\n",
      "Song Goes: gf0.1667 and we guess: gf0.1667 at index: 135\n",
      "Song Goes: 64 and we guess: 47 at index: 136<---------\n",
      "Song Goes: 67 and we guess: gf1.0 at index: 137<---------\n",
      "Song Goes: gf0.1667 and we guess: 63 at index: 138<---------\n",
      "Song Goes: 60 and we guess: gf0.25 at index: 139<---------\n",
      "Song Goes: gf0.0833 and we guess: 75 at index: 140<---------\n",
      "Song Goes: 57 and we guess: 75 at index: 141<---------\n",
      "Song Goes: 69 and we guess: gf0.25 at index: 142<---------\n",
      "Song Goes: gf0.25 and we guess: 75 at index: 143<---------\n",
      "Song Goes: 35 and we guess: gf0.1667 at index: 144<---------\n",
      "Song Goes: gf0.25 and we guess: 75 at index: 145<---------\n",
      "Song Goes: 43 and we guess: 79 at index: 146<---------\n",
      "Song Goes: 55 and we guess: gf0.25 at index: 147<---------\n",
      "Song Goes: gf0.0833 and we guess: 40 at index: 148<---------\n",
      "Song Goes: 53 and we guess: gf0.25 at index: 149<---------\n",
      "Song Goes: 62 and we guess: 75 at index: 150<---------\n",
      "Song Goes: gf0.1667 and we guess: gf0.25 at index: 151<---------\n",
      "Song Goes: 65 and we guess: 63 at index: 152<---------\n",
      "Song Goes: 67 and we guess: gf0.25 at index: 153<---------\n",
      "Song Goes: gf0.1667 and we guess: 40 at index: 154<---------\n",
      "Song Goes: 62 and we guess: gf0.25 at index: 155<---------\n",
      "Song Goes: gf0.0833 and we guess: 84 at index: 156<---------\n",
      "Song Goes: 57 and we guess: gf0.1667 at index: 157<---------\n"
     ]
    },
    {
     "name": "stdout",
     "output_type": "stream",
     "text": [
      "Song Goes: 69 and we guess: 88 at index: 158<---------\n",
      "Song Goes: gf0.25 and we guess: gf1.0 at index: 159<---------\n",
      "Song Goes: 36 and we guess: 72 at index: 160<---------\n",
      "Song Goes: gf0.25 and we guess: gf0.25 at index: 161\n",
      "Song Goes: 43 and we guess: 79 at index: 162<---------\n",
      "Song Goes: 55 and we guess: gf0.25 at index: 163<---------\n",
      "Song Goes: gf0.0833 and we guess: 88 at index: 164<---------\n",
      "Song Goes: 52 and we guess: gf0.25 at index: 165<---------\n",
      "Song Goes: 60 and we guess: 86 at index: 166<---------\n",
      "Song Goes: gf0.1667 and we guess: gf0.1667 at index: 167\n",
      "Song Goes: 64 and we guess: 86 at index: 168<---------\n",
      "Song Goes: 67 and we guess: gf0.25 at index: 169<---------\n",
      "Song Goes: gf0.1667 and we guess: 40 at index: 170<---------\n",
      "Song Goes: 60 and we guess: gf0.25 at index: 171<---------\n",
      "Song Goes: gf0.0833 and we guess: 48 at index: 172<---------\n",
      "Song Goes: 57 and we guess: 60 at index: 173<---------\n",
      "Song Goes: 69 and we guess: 67 at index: 174<---------\n",
      "Song Goes: gf0.25 and we guess: gf0.25 at index: 175\n",
      "Song Goes: 40 and we guess: 72 at index: 176<---------\n",
      "Song Goes: gf0.25 and we guess: 72 at index: 177<---------\n",
      "Song Goes: 52 and we guess: 72 at index: 178<---------\n",
      "Song Goes: 59 and we guess: gf0.25 at index: 179<---------\n",
      "Song Goes: gf0.0833 and we guess: 51 at index: 180<---------\n",
      "Song Goes: 55 and we guess: gf1.0 at index: 181<---------\n",
      "Song Goes: 64 and we guess: 41 at index: 182<---------\n",
      "Song Goes: gf0.1667 and we guess: gf1.0 at index: 183<---------\n",
      "Song Goes: 67 and we guess: 60 at index: 184<---------\n",
      "Song Goes: 71 and we guess: gf0.25 at index: 185<---------\n",
      "Song Goes: gf0.1667 and we guess: 60 at index: 186<---------\n",
      "Song Goes: 64 and we guess: gf0.25 at index: 187<---------\n",
      "Song Goes: gf0.0833 and we guess: 69 at index: 188<---------\n",
      "Song Goes: 60 and we guess: 67 at index: 189<---------\n",
      "Song Goes: 72 and we guess: 67 at index: 190<---------\n",
      "Song Goes: gf0.25 and we guess: gf0.25 at index: 191\n",
      "Song Goes: 41 and we guess: 60 at index: 192<---------\n",
      "Song Goes: gf0.25 and we guess: gf0.1667 at index: 193<---------\n",
      "Song Goes: 48 and we guess: 60 at index: 194<---------\n",
      "Song Goes: 61 and we guess: gf2.0 at index: 195<---------\n",
      "Song Goes: gf0.0833 and we guess: 69 at index: 196<---------\n",
      "Song Goes: 57 and we guess: gf0.25 at index: 197<---------\n",
      "Song Goes: 65 and we guess: 69 at index: 198<---------\n",
      "Song Goes: gf0.1667 and we guess: 69 at index: 199<---------\n"
     ]
    }
   ],
   "source": [
    "for i in range(len(Composition)):\n",
    "    if encoding[i]==Composition[i]:\n",
    "        print('Song Goes: '+str(encoding[i])+' and we guess: '+str(Composition[i])+' at index: '+str(i))\n",
    "    else:\n",
    "        print('Song Goes: '+str(encoding[i])+' and we guess: '+str(Composition[i])+' at index: '+str(i)+'<---------')\n",
    "        "
   ]
  },
  {
   "cell_type": "code",
   "execution_count": 43,
   "metadata": {},
   "outputs": [
    {
     "data": {
      "text/plain": [
       "array([[1.8657015e-07, 1.9918750e-07, 4.6958246e-07, 5.4478647e-07,\n",
       "        3.2724169e-01, 6.7275691e-01]], dtype=float32)"
      ]
     },
     "execution_count": 43,
     "metadata": {},
     "output_type": "execute_result"
    }
   ],
   "source": [
    "encoding=DF.iloc[0,2]\n",
    "sequenceIn=[]\n",
    "\n",
    "for word in encoding[:100]:\n",
    "    sequenceIn.append(WordToNumber[word])\n",
    "get_gf.predict(np.reshape(sequenceIn,(1,100,1))/len(vocab))"
   ]
  },
  {
   "cell_type": "code",
   "execution_count": 44,
   "metadata": {},
   "outputs": [],
   "source": [
    "with open('SavedModels/just.testing.pickle','rb') as file:\n",
    "    trialIn=pickle.load(file)"
   ]
  },
  {
   "cell_type": "code",
   "execution_count": 45,
   "metadata": {},
   "outputs": [
    {
     "data": {
      "text/plain": [
       "array([[9.9999952e-01, 2.9507141e-09, 1.9428661e-09, 1.4331528e-10,\n",
       "        4.5465111e-07, 2.0116875e-08]], dtype=float32)"
      ]
     },
     "execution_count": 45,
     "metadata": {},
     "output_type": "execute_result"
    }
   ],
   "source": [
    "get_gf.predict(np.reshape(trialIn,(1,100,1))/len(vocab))"
   ]
  },
  {
   "cell_type": "code",
   "execution_count": null,
   "metadata": {},
   "outputs": [],
   "source": []
  }
 ],
 "metadata": {
  "kernelspec": {
   "display_name": "Python 3",
   "language": "python",
   "name": "python3"
  },
  "language_info": {
   "codemirror_mode": {
    "name": "ipython",
    "version": 3
   },
   "file_extension": ".py",
   "mimetype": "text/x-python",
   "name": "python",
   "nbconvert_exporter": "python",
   "pygments_lexer": "ipython3",
   "version": "3.6.5"
  }
 },
 "nbformat": 4,
 "nbformat_minor": 2
}
