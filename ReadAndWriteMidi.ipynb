{
 "cells": [
  {
   "cell_type": "code",
   "execution_count": 62,
   "metadata": {},
   "outputs": [],
   "source": [
    "import music21\n",
    "import numpy as np"
   ]
  },
  {
   "cell_type": "markdown",
   "metadata": {},
   "source": [
    "In the code that follows, we define a function that takes input a mid filename as input. We then do the following steps:\n",
    "\n",
    "1-We add any notes that have the same offset (i.e. they start at the same time), as chords.\n",
    "2-We give the chord the duration of its shortest non-zero duration.\n",
    "3-We save all the durations of all notes/chords and return them.\n",
    "4-We save all the offsets of all notes/chords and return them.\n",
    "5-We return a list of all unique notes/chords.\n",
    "\n",
    "notes:"
   ]
  },
  {
   "cell_type": "code",
   "execution_count": 100,
   "metadata": {},
   "outputs": [],
   "source": [
    "def get_features(filename):\n",
    "    #offsets of each event\n",
    "    offsets=[]\n",
    "    \n",
    "    #duration of each event\n",
    "    durations=[]\n",
    "    \n",
    "    #note or chord at each event.\n",
    "    notes=[]\n",
    "    \n",
    "    \n",
    "    notesRaw=music21.converter.parse(filename)\n",
    "    notesRaw=notesRaw.flat.notes\n",
    "    for note in notesRaw:  \n",
    "        if isinstance(note,music21.note.Note):\n",
    "            notes.append(str(note.pitch.midi))\n",
    "            durations.append(note.duration.quarterLength)\n",
    "            offsets.append(note.offset)\n",
    "        elif isinstance(note,music21.chord.Chord):\n",
    "            notes.append('.'.join(str(n) for n in note.normalOrder))\n",
    "            durations.append(note.duration.quarterLength)\n",
    "            offsets.append(note.offset)\n",
    "    \n",
    "    #we now make all notes that are played at the same time as a chord.\n",
    "    \n",
    "    \n",
    "    \n",
    "    \n",
    "    new_notes=[]\n",
    "    new_durations=[]\n",
    "    uniqueOffsets=list(set(offsets))\n",
    "    \n",
    "    #to simplify matters\n",
    "    notes=np.array(notes)\n",
    "    durations=np.array(durations)\n",
    "    offsets=np.array(offsets)\n",
    "\n",
    "    for eachOffset in uniqueOffsets:\n",
    "        #take care of creating Chords\n",
    "        \n",
    "        notesPlayed=notes[offsets==eachOffset]\n",
    "        joinedNotes=[]\n",
    "        for eachNote in notesPlayed:\n",
    "            joinedNotes.extend(eachNote.split('.'))\n",
    "        joinedNotes=sorted(set(joinedNotes))\n",
    "        joined=['.'.join(n for n in joinedNotes)]\n",
    "        new_notes.extend(joined)\n",
    "        \n",
    "        #take care of chosing the right duration:\n",
    "        new_durations.append(np.max(durations[offsets==eachOffset]))\n",
    "        \n",
    "        \n",
    "        \n",
    "    \n",
    "    \n",
    "    \n",
    "    return list(new_notes),list(uniqueOffsets),list(new_durations)"
   ]
  },
  {
   "cell_type": "markdown",
   "metadata": {},
   "source": [
    "In the following function, we create a midi file given a notes list, an offset list, and a durations list:\n"
   ]
  },
  {
   "cell_type": "code",
   "execution_count": 96,
   "metadata": {},
   "outputs": [],
   "source": [
    "def write_midi(notes,offsets,durations,filepath):\n",
    "    entireSong=[]\n",
    "\n",
    "    for i,note in enumerate(notes):\n",
    "        if ('.' in note):\n",
    "            chord=note.split('.')\n",
    "            individuals=[]\n",
    "            for n in chord:\n",
    "                new_note=music21.note.Note(int(n))\n",
    "                new_note.storedInstrument=music21.instrument.Piano()\n",
    "                individuals.append(new_note)\n",
    "            new_chord=music21.chord.Chord(individuals)\n",
    "            new_chord.offset=offsets[i]\n",
    "            new_chord.duration=music21.duration.Duration(durations[i])\n",
    "            entireSong.append(new_chord)\n",
    "        else:\n",
    "            new_note=music21.note.Note(int(note))\n",
    "            new_note.offset=offsets[i]\n",
    "            new_note.duration=music21.duration.Duration(durations[i])\n",
    "            new_note.storedInstrument=music21.instrument.Piano()\n",
    "            entireSong.append(new_note)    \n",
    "            \n",
    "    midi_stream=music21.stream.Stream(entireSong)\n",
    "    midi_stream.write('midi', fp=filepath)\n",
    "    return 1\n",
    "    "
   ]
  },
  {
   "cell_type": "code",
   "execution_count": 99,
   "metadata": {},
   "outputs": [],
   "source": [
    "testNotes,testOffsets,testDurs=get_features('Classical/hay_40_1.mid')\n",
    "worked=write_midi(testNotes,testOffsets,testDurs,'checkin.mid')\n"
   ]
  },
  {
   "cell_type": "markdown",
   "metadata": {},
   "source": [
    "with the above we have changed all notes/chords to numbers."
   ]
  },
  {
   "cell_type": "code",
   "execution_count": null,
   "metadata": {},
   "outputs": [],
   "source": []
  }
 ],
 "metadata": {
  "kernelspec": {
   "display_name": "Python 3",
   "language": "python",
   "name": "python3"
  },
  "language_info": {
   "codemirror_mode": {
    "name": "ipython",
    "version": 3
   },
   "file_extension": ".py",
   "mimetype": "text/x-python",
   "name": "python",
   "nbconvert_exporter": "python",
   "pygments_lexer": "ipython3",
   "version": "3.6.5"
  }
 },
 "nbformat": 4,
 "nbformat_minor": 2
}
